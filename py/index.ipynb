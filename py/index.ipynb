{
 "cells": [
  {
   "cell_type": "code",
   "execution_count": 4,
   "metadata": {},
   "outputs": [],
   "source": [
    "#pip install pytesseract pillow"
   ]
  },
  {
   "cell_type": "code",
   "execution_count": 1,
   "metadata": {},
   "outputs": [],
   "source": [
    "import pytesseract\n",
    "from PIL import Image"
   ]
  },
  {
   "cell_type": "code",
   "execution_count": 9,
   "metadata": {},
   "outputs": [
    {
     "data": {
      "text/plain": [
       "'———H—————————\\n\\nBir yanı masmavi deniz, bir yanı yemyeşil\\nbayırlar. Kışın Ilik, yazın serin, her zaman ya-\\ngışlı ve nemli bir hava, Burası Doğu Karadeniz\\nkıyılarında Rize, Trabzon çevreleri. Ağaçların,\\notların, çiçeklerin, her çeşit bitkinin coşup\\ntaştığı yerler. Ağaçların yaprakları zümrüt gibi\\nparlaktır. Bahar aylarında filizler gözle görülür-\\ncesine çabuk büyür. Tomurcuklar sabah pat-\\nlar, öğleye yaprak olur, akşama sürgün verir.\\nBunlardan birisi de çay. Hani şu ince belli bar-\\ndaklara doldurup içtiğimiz çay. Hoş kokulu,\\ntadına doyamadığımız çay.\\n\\nTalip APAYDIN.\\n\\n'"
      ]
     },
     "execution_count": 9,
     "metadata": {},
     "output_type": "execute_result"
    }
   ],
   "source": [
    "\n",
    "img = Image.open(\"0.png\")\n",
    "metin = pytesseract.image_to_string(img, lang='tur')  # Türkçe dil desteği için 'lang=tur'\n",
    "metin\n"
   ]
  },
  {
   "cell_type": "code",
   "execution_count": 11,
   "metadata": {},
   "outputs": [
    {
     "data": {
      "text/plain": [
       "'Aşağıdakilerden hangisi Karadeniz Bölgesi\\nolarak belirtilmemiştir?\\n\\nhavasının özel\\n\\n© Kışın ılık\\n© Yazın serin\\n\\nHer zaman yağışlı ve nemli\\nKuru ve bol oksijenli\\n\\n'"
      ]
     },
     "execution_count": 11,
     "metadata": {},
     "output_type": "execute_result"
    }
   ],
   "source": [
    "\n",
    "img = Image.open(\"1.png\")\n",
    "metin = pytesseract.image_to_string(img, lang='tur')  # Türkçe dil desteği için 'lang=tur'\n",
    "metin\n"
   ]
  }
 ],
 "metadata": {
  "kernelspec": {
   "display_name": "Python 3",
   "language": "python",
   "name": "python3"
  },
  "language_info": {
   "codemirror_mode": {
    "name": "ipython",
    "version": 3
   },
   "file_extension": ".py",
   "mimetype": "text/x-python",
   "name": "python",
   "nbconvert_exporter": "python",
   "pygments_lexer": "ipython3",
   "version": "3.12.0"
  }
 },
 "nbformat": 4,
 "nbformat_minor": 2
}
